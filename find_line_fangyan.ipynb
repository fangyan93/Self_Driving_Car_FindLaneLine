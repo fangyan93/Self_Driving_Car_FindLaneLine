{
 "cells": [
  {
   "cell_type": "markdown",
   "metadata": {},
   "source": [
    "# Self-Driving Car Engineer Nanodegree\n",
    "\n",
    "\n",
    "## Project: **Finding Lane Lines on the Road** \n",
    "***\n",
    "### Author: Fangyan Xu\n",
    "\n",
    "**The In this project, I use the tools learned about in the lesson to identify lane lines on the road. My pipeline applied to image and video stream is shown as following.**\n",
    "\n",
    "---"
   ]
  },
  {
   "cell_type": "markdown",
   "metadata": {},
   "source": [
    "## PipeLine"
   ]
  },
  {
   "cell_type": "markdown",
   "metadata": {},
   "source": [
    "My pipeline consists of 6 steps. \n",
    "<figure>\n",
    " <img src=\"test_images/outputsolidYellowCurve2.jpg\" width=\"380\" alt=\"Combined Image\" />\n",
    " <figcaption>\n",
    " <p></p> \n",
    " <p style=\"text-align: center;\"> Original image </p> \n",
    " </figcaption>\n",
    "Step 1, convert the images converted to grayscale \n",
    "<figure>\n",
    " <img src=\"report_image/gray.jpg\" width=\"380\" alt=\"Combined Image\" />\n",
    " <figcaption>\n",
    " <p></p> \n",
    " <p style=\"text-align: center;\"> Grayscale image </p> \n",
    " </figcaption>\n",
    "Step 2, apply gaussian smoothing on grayscaled images \n",
    "Step 3, apply canny edge detection, obtain a set of edges\n",
    "<figure>\n",
    " <img src=\"report_image/edges.jpg\" width=\"380\" alt=\"Combined Image\" />\n",
    " <figcaption>\n",
    " <p></p> \n",
    " <p style=\"text-align: center;\"> Edges afte edge detection </p> \n",
    " </figcaption>\n",
    "Step 4, apply region mask, select edges in desired region\n",
    "<figure>\n",
    " <img src=\"report_image/masked_edges.jpg\" width=\"380\" alt=\"Combined Image\" />\n",
    " <figcaption>\n",
    " <p></p> \n",
    " <p style=\"text-align: center;\"> Edges after region mask </p> \n",
    " </figcaption>\n",
    "Step 5, use Hough transform to find and draw the lines\n",
    "<figure>\n",
    " <img src=\"test_images/output_segment_solidYellowCurve2.jpg\" width=\"380\" alt=\"Combined Image\" />\n",
    " <figcaption>\n",
    " <p></p> \n",
    " <p style=\"text-align: center;\">  Line Segment for lane line in original image </p> \n",
    " </figcaption>\n",
    "</figure>\n",
    " <p></p> \n",
    "Step 6, add the lines on original image\n",
    "<figure>\n",
    " <img src=\"report_image/lines_edges.jpg\" width=\"380\" alt=\"Combined Image\" />\n",
    " <figcaption>\n",
    " <p></p> \n",
    " <p style=\"text-align: center;\"> full extent of line </p> \n",
    " </figcaption>"
   ]
  },
  {
   "cell_type": "markdown",
   "metadata": {},
   "source": [
    "# Reflection"
   ]
  },
  {
   "cell_type": "markdown",
   "metadata": {},
   "source": [
    "### Import Packages"
   ]
  },
  {
   "cell_type": "code",
   "execution_count": 1,
   "metadata": {
    "collapsed": true
   },
   "outputs": [],
   "source": [
    "#importing some useful packages\n",
    "import matplotlib.pyplot as plt\n",
    "import matplotlib.image as mpimg\n",
    "import numpy as np\n",
    "import cv2\n",
    "import sys\n",
    "import math\n",
    "import os"
   ]
  },
  {
   "cell_type": "markdown",
   "metadata": {},
   "source": [
    "### Helper Functions"
   ]
  },
  {
   "cell_type": "markdown",
   "metadata": {},
   "source": [
    "Below are some helper functions in my pipeline"
   ]
  },
  {
   "cell_type": "code",
   "execution_count": 2,
   "metadata": {
    "collapsed": true
   },
   "outputs": [],
   "source": [
    "import math\n",
    "\n",
    "def grayscale(img):\n",
    "    \"\"\"Applies the Grayscale transform\n",
    "    This will return an image with only one color channel\n",
    "    but NOTE: to see the returned image as grayscale\n",
    "    (assuming your grayscaled image is called 'gray')\n",
    "    you should call plt.imshow(gray, cmap='gray')\"\"\"\n",
    "    return cv2.cvtColor(img, cv2.COLOR_RGB2GRAY)\n",
    "    # Or use BGR2GRAY if you read an image with cv2.imread()\n",
    "    # return cv2.cvtColor(img, cv2.COLOR_BGR2GRAY)\n",
    "    \n",
    "def canny(img, low_threshold, high_threshold):\n",
    "    \"\"\"Applies the Canny transform\"\"\"\n",
    "    return cv2.Canny(img, low_threshold, high_threshold)\n",
    "\n",
    "def gaussian_blur(img, kernel_size):\n",
    "    \"\"\"Applies a Gaussian Noise kernel\"\"\"\n",
    "    return cv2.GaussianBlur(img, (kernel_size, kernel_size), 0)\n",
    "\n",
    "def region_of_interest(img, vertices):\n",
    "    \"\"\"\n",
    "    Applies an image mask.\n",
    "    \n",
    "    Only keeps the region of the image defined by the polygon\n",
    "    formed from `vertices`. The rest of the image is set to black.\n",
    "    \"\"\"\n",
    "    #defining a blank mask to start with\n",
    "    mask = np.zeros_like(img)   \n",
    "    \n",
    "    #defining a 3 channel or 1 channel color to fill the mask with depending on the input image\n",
    "    if len(img.shape) > 2:\n",
    "        channel_count = img.shape[2]  # i.e. 3 or 4 depending on your image\n",
    "        ignore_mask_color = (255,) * channel_count\n",
    "    else:\n",
    "        ignore_mask_color = 255\n",
    "        \n",
    "    #filling pixels inside the polygon defined by \"vertices\" with the fill color    \n",
    "    cv2.fillPoly(mask, vertices, ignore_mask_color)\n",
    "    \n",
    "    #returning the image only where mask pixels are nonzero\n",
    "    masked_image = cv2.bitwise_and(img, mask)\n",
    "    return masked_image\n",
    "\n",
    "def hough_lines(img, rho, theta, threshold, min_line_len, max_line_gap):\n",
    "    \"\"\"\n",
    "    `img` should be the output of a Canny transform.\n",
    "        \n",
    "    Returns an image with hough lines drawn.\n",
    "    \"\"\"\n",
    "    lines = cv2.HoughLinesP(img, rho, theta, threshold, np.array([]), minLineLength=min_line_len, maxLineGap=max_line_gap)\n",
    "    line_img = np.zeros((img.shape[0], img.shape[1], 3), dtype=np.uint8)\n",
    "    draw_lines(line_img, lines)\n",
    "    return line_img\n",
    "\n",
    "# Python 3 has support for cool math symbols.\n",
    "\n",
    "def weighted_img(img, initial_img, α=0.8, β=1., λ=0.):\n",
    "    \"\"\"\n",
    "    `img` is the output of the hough_lines(), An image with lines drawn on it.\n",
    "    Should be a blank image (all black) with lines drawn on it.\n",
    "    \n",
    "    `initial_img` should be the image before any processing.\n",
    "    \n",
    "    The result image is computed as follows:\n",
    "    \n",
    "    initial_img * α + img * β + λ\n",
    "    NOTE: initial_img and img must be the same shape!\n",
    "    \"\"\"\n",
    "    return cv2.addWeighted(initial_img, α, img, β, λ)\n",
    "\n",
    "def Dis(p1, p2):\n",
    "    return np.sqrt( (p1[0] - p2[0])**2 + (p1[1] - p2[1])**2)\n",
    "\n",
    "def draw(y1, y2, slop, dis, img, color, thickness):\n",
    "    xx1 = (y1 - dis) / slop\n",
    "    yy1 = y1\n",
    "    xx2 = (y2 - dis) / slop\n",
    "    yy2 = y2\n",
    "    cv2.line(img, (int(xx1), int(yy1)), (int(xx2), int(yy2)), color, thickness)"
   ]
  },
  {
   "cell_type": "markdown",
   "metadata": {},
   "source": [
    "### Revise draw_lines() function"
   ]
  },
  {
   "cell_type": "raw",
   "metadata": {},
   "source": [
    "In order to draw a single line on the left and right lanes, I modified the draw_lines() function by computing slop of each edge, grouping lines with similar slop, taking average on all negative slops to get the final slop for left lane line, obtaining the final slop for right lane line in the same way. The code is as following."
   ]
  },
  {
   "cell_type": "code",
   "execution_count": 3,
   "metadata": {
    "collapsed": true
   },
   "outputs": [],
   "source": [
    "def draw_lines(img, lines, color=[255, 0, 0], thickness=5):\n",
    "    \"\"\"\n",
    "    This function is used to draw the full extent of the lane, here we take all edges after\n",
    "    canny edge detection and compute slop of each edge, group them \n",
    "    \"\"\"\n",
    "    width = img.shape[1]\n",
    "    height = img.shape[0]\n",
    "\n",
    "    upper_limit = 0.61 * height\n",
    "    lower_limit = height\n",
    "\n",
    "    x_left_down = 0.052 * width\n",
    "    x_left_up = 0.448 * width\n",
    "    x_right_up = 0.5625 * width\n",
    "    x_right_down = 0.9375 * width\n",
    "\n",
    "    slops = {} # key : (slop, dis), value: ((x1, y1), (x2, y2))\n",
    "    slop_threshold = 0.006\n",
    "    for line in lines:\n",
    "        for x1,y1,x2,y2 in line:\n",
    "            # for lines with simlar slop and intercept, only choose the pair of points with longest distance \n",
    "            slop = (y1 - y2) / (x1 - x2)\n",
    "            dis = y1 - slop * x1\n",
    "            \n",
    "            insert = 0\n",
    "            old_keys = slops.keys()\n",
    "            for s in old_keys:\n",
    "                if(abs(slop - s[0]) < slop_threshold or abs(dis - s[1]) < 10):\n",
    "                        insert = 1\n",
    "                        p1 = slops[s][0][0]\n",
    "                        p2 = slops[s][0][1]\n",
    "                        newP1 = ()\n",
    "                        newP2 = ()\n",
    "                        \n",
    "                        # find a pair of points with longest distance\n",
    "                        x_axis =[]\n",
    "                        x_axis.append(x1)\n",
    "                        x_axis.append(x2)\n",
    "                        x_axis.append(p1[0])\n",
    "                        x_axis.append(p2[0])\n",
    "                        \n",
    "                        points = []\n",
    "                        points.append((x1, y1))\n",
    "                        points.append((x2, y2))\n",
    "                        points.append(p1)\n",
    "                        points.append(p2)\n",
    "                        \n",
    "                        newP1_index = x_axis.index(min(x_axis))\n",
    "                        newP2_index = x_axis.index(max(x_axis))\n",
    "                        \n",
    "                        # record the pair of points and current slop and intercept for computing average later\n",
    "                        newP1 = points[newP1_index]\n",
    "                        newP2 = points[newP2_index]\n",
    "\n",
    "                        newSlop = slops[s][1][0][0] + slop\n",
    "                        newDis = slops[s][1][0][1] + dis\n",
    "\n",
    "                        num = slops[s][1][1] + 1\n",
    "                        del slops[s]\n",
    "                        slops[(slop, dis)] = ((newP1, newP2), ((newSlop, newDis), num))\n",
    "                        insert = 1\n",
    "                        break\n",
    "            # insert the slop and dis if there is no similar previous one\n",
    "            if(insert == 0) :\n",
    "                slops[(slop, dis)] = (((x1, y1), (x2, y2)), ((slop, dis), 1))\n",
    "                \n",
    "    right_len = 0\n",
    "    left_len = 0\n",
    "    num1 = 0\n",
    "    num2 = 0\n",
    "\n",
    "    valid_slops_right = []\n",
    "    valid_slops_left = []\n",
    "    valid_dis_right = []\n",
    "    valid_dis_left = []\n",
    "    for s in slops.keys():\n",
    "        \n",
    "        p1 = slops[s][0][0]\n",
    "        p2 = slops[s][0][1]\n",
    "        slop_dis = slops[s][1][0]\n",
    "        total = slops[s][1][1]\n",
    "        # compute average slop\n",
    "        if(p1[0] - p2[0] == 0):\n",
    "            continue\n",
    "\n",
    "        slop = slop_dis[0] / total \n",
    "        dis = slop_dis[1] / total\n",
    "\n",
    "        # since the slops of two lane lines have opposite signs, we only need to decide 1 slop for each lane line\n",
    "        # choose the slop of a line with longest length as the slop of the corresponding lane line\n",
    "        # since the position of the lane line is relatively fixed, we can limit the value of slop to remove some noise\n",
    "        leng = Dis(p1, p2)\n",
    "        \n",
    "        if((slop > 0.5 and slop < 0.8) or (slop > -0.8 and slop < -0.5)):\n",
    "            # draw(upper_limit, lower_limit, slop, dis, img, color, thickness) \n",
    "            if(slop > 0  and leng > right_len):\n",
    "                valid_slops_right.append(slop)\n",
    "                valid_dis_right.append(dis)\n",
    "            if(slop < 0 and leng > left_len):\n",
    "                valid_slops_left.append(slop)\n",
    "                valid_dis_left.append(dis)\n",
    "\n",
    "    slop_right = 0\n",
    "    dis_right = 0\n",
    "    slop_left = 0\n",
    "    dis_left = 0\n",
    "    if(len(valid_slops_right) > 0):\n",
    "        slop_right = np.sum(valid_slops_right) / len(valid_slops_right)\n",
    "        dis_right = np.sum(valid_dis_right) / len(valid_dis_right)\n",
    "    if(len(valid_slops_left) > 0):\n",
    "        slop_left = np.sum(valid_slops_left) / len(valid_slops_left)\n",
    "        dis_left = np.sum(valid_dis_left) / len(valid_dis_left)\n",
    "        \n",
    "    # draw the lines\n",
    "    if(slop_right != 0):\n",
    "        draw(upper_limit, lower_limit, slop_right, dis_right, img, color, thickness)\n",
    "    if(slop_left != 0):\n",
    "        draw(upper_limit, lower_limit, slop_left, dis_left, img, color, thickness)  \n",
    "    cv2.imshow('llinees', img)\n",
    "    # cv2.waitKey(0)"
   ]
  },
  {
   "cell_type": "markdown",
   "metadata": {},
   "source": [
    "### Find line in an image\n",
    "This function takes an image as input, find and draw the lines on the input image."
   ]
  },
  {
   "cell_type": "code",
   "execution_count": 4,
   "metadata": {
    "collapsed": true
   },
   "outputs": [],
   "source": [
    "def find_line_in_image(image):\n",
    "    # global parameter\n",
    "    width = image.shape[1]\n",
    "    height = image.shape[0]\n",
    "    kernel_size = 3\n",
    "    low_threshold = 50\n",
    "    high_threshold = 150\n",
    "    \n",
    "    # parameters for region mask\n",
    "    upper_limit = 0.61 * height\n",
    "    lower_limit = height\n",
    "\n",
    "    x_left_down = 0.052 * width\n",
    "    x_left_up = 0.448 * width\n",
    "    x_right_up = 0.5625 * width\n",
    "    x_right_down = 0.9375 * width\n",
    "\n",
    "    cv2.imshow('origin', image)\n",
    "\t#printing out some stats and plotting\n",
    "    print('This image is:', type(image), 'with dimensions:', image.shape)\n",
    "    gray = grayscale(image)\n",
    "    # cv2.imshow('gray', gray)\n",
    "    \n",
    "    blur = gaussian_blur(gray, kernel_size)\n",
    "    # cv2.imshow('blur', blur)\n",
    "    edges = canny(blur, low_threshold, high_threshold)\n",
    "    # cv2.imshow('edges', edges)\n",
    "    \n",
    "    vertices = np.array([[(x_left_down,lower_limit),(x_left_up, upper_limit), (x_right_up, upper_limit), (x_right_down,lower_limit)]], dtype=np.int32)\n",
    "    masked_edges = region_of_interest(edges, vertices)\n",
    "    \n",
    "    # each lane line has two sides, therefore 2 lines will be detected alone each lane line.\n",
    "    \n",
    "    rho = 1 \n",
    "    theta = 1 * np.pi/180 \n",
    "    threshold = 3    \n",
    "    min_line_length = 15\n",
    "    max_line_gap = 10 \n",
    "    \n",
    "    line_image = hough_lines(masked_edges, rho, theta, threshold, min_line_length, max_line_gap)\n",
    "    \n",
    "    # Draw the lines on the edge image\n",
    "    lines_edges = weighted_img(line_image, image, 0.8, 1., 0.)\n",
    "    cv2.imshow('line_edges', lines_edges)\n",
    "    # cv2.waitKey(3000)\n",
    "    return lines_edges"
   ]
  },
  {
   "cell_type": "markdown",
   "metadata": {},
   "source": [
    "### Function for a single image"
   ]
  },
  {
   "cell_type": "code",
   "execution_count": 5,
   "metadata": {
    "collapsed": true
   },
   "outputs": [],
   "source": [
    "path = \"test_images/\"\n",
    "def single_image(name):\n",
    "    file = os.path.join(path, name)\n",
    "    image = cv2.imread(file)\n",
    "    result = find_line_in_image(image)\n",
    "    cv2.imshow('result', result)\n",
    "    plt.imshow(image)\n",
    "    plt.imshow(result)\n",
    "    # output_file = os.path.join(path, \"output_segment_\" + name)\n",
    "    # cv2.imwrite(output_file,result)\n",
    "#     cv2.waitKey(0)"
   ]
  },
  {
   "cell_type": "markdown",
   "metadata": {},
   "source": [
    "### Function for all test images"
   ]
  },
  {
   "cell_type": "code",
   "execution_count": 6,
   "metadata": {
    "collapsed": true
   },
   "outputs": [],
   "source": [
    "def for_lines():\n",
    "    files = os.listdir(path)\n",
    "    \n",
    "    for file in files:\n",
    "        if(file == '.DS_Store' or file == \".\"):\n",
    "            continue\n",
    "        file = os.path.join(path, file)\n",
    "        image = cv2.imread(file)\n",
    "        find_line_in_image(image)"
   ]
  },
  {
   "cell_type": "markdown",
   "metadata": {},
   "source": [
    "### Function for video\n",
    "Import dependent packages"
   ]
  },
  {
   "cell_type": "code",
   "execution_count": 7,
   "metadata": {
    "collapsed": true
   },
   "outputs": [],
   "source": [
    "import imageio\n",
    "imageio.plugins.ffmpeg.download()\n",
    "from moviepy.editor import VideoFileClip\n",
    "from IPython.display import HTML"
   ]
  },
  {
   "cell_type": "code",
   "execution_count": 8,
   "metadata": {
    "collapsed": true
   },
   "outputs": [],
   "source": [
    "video_path = \"test_videos/\"\n",
    "def for_video(name):\n",
    "    input_video = name\n",
    "    output_video = \"output\" + name\n",
    "    white_output = os.path.join(video_path, output_video)\n",
    "    \n",
    "    white_input = os.path.join(video_path, input_video)\n",
    "    clip1 = VideoFileClip(white_input)\n",
    "    white_clip = clip1.fl_image(find_line_in_image) \n",
    "    white_clip.write_videofile(white_output, audio=False)"
   ]
  },
  {
   "cell_type": "markdown",
   "metadata": {},
   "source": [
    "### Run\n",
    "Use the function above to run the pipeline on image or video"
   ]
  },
  {
   "cell_type": "code",
   "execution_count": 9,
   "metadata": {
    "scrolled": true
   },
   "outputs": [
    {
     "name": "stdout",
     "output_type": "stream",
     "text": [
      "This image is: <class 'numpy.ndarray'> with dimensions: (540, 960, 3)\n",
      "This image is: <class 'numpy.ndarray'> with dimensions: (540, 960, 3)\n",
      "[MoviePy] >>>> Building video test_videos/outputsolidWhiteRight.mp4\n",
      "[MoviePy] Writing video test_videos/outputsolidWhiteRight.mp4\n"
     ]
    },
    {
     "name": "stderr",
     "output_type": "stream",
     "text": [
      "  1%|▏         | 3/222 [00:00<00:08, 25.69it/s]"
     ]
    },
    {
     "name": "stdout",
     "output_type": "stream",
     "text": [
      "This image is: <class 'numpy.ndarray'> with dimensions: (540, 960, 3)\n",
      "This image is: <class 'numpy.ndarray'> with dimensions: (540, 960, 3)\n",
      "This image is: <class 'numpy.ndarray'> with dimensions: (540, 960, 3)\n",
      "This image is: <class 'numpy.ndarray'> with dimensions: (540, 960, 3)\n",
      "This image is: <class 'numpy.ndarray'> with dimensions: (540, 960, 3)\n",
      "This image is: <class 'numpy.ndarray'> with dimensions: (540, 960, 3)\n"
     ]
    },
    {
     "name": "stderr",
     "output_type": "stream",
     "text": [
      "  5%|▍         | 10/222 [00:00<00:07, 28.76it/s]"
     ]
    },
    {
     "name": "stdout",
     "output_type": "stream",
     "text": [
      "This image is: <class 'numpy.ndarray'> with dimensions: (540, 960, 3)\n",
      "This image is: <class 'numpy.ndarray'> with dimensions: (540, 960, 3)\n",
      "This image is: <class 'numpy.ndarray'> with dimensions: (540, 960, 3)\n",
      "This image is: <class 'numpy.ndarray'> with dimensions: (540, 960, 3)\n",
      "This image is: <class 'numpy.ndarray'> with dimensions: (540, 960, 3)\n",
      "This image is: <class 'numpy.ndarray'> with dimensions: (540, 960, 3)\n",
      "This image is: <class 'numpy.ndarray'> with dimensions: (540, 960, 3)\n",
      "This image is: <class 'numpy.ndarray'> with dimensions: (540, 960, 3)\n"
     ]
    },
    {
     "name": "stderr",
     "output_type": "stream",
     "text": [
      "  8%|▊         | 17/222 [00:00<00:07, 26.33it/s]"
     ]
    },
    {
     "name": "stdout",
     "output_type": "stream",
     "text": [
      "This image is: <class 'numpy.ndarray'> with dimensions: (540, 960, 3)\n",
      "This image is: <class 'numpy.ndarray'> with dimensions: (540, 960, 3)\n",
      "This image is: <class 'numpy.ndarray'> with dimensions: (540, 960, 3)\n",
      "This image is: <class 'numpy.ndarray'> with dimensions: (540, 960, 3)\n",
      "This image is: <class 'numpy.ndarray'> with dimensions:"
     ]
    },
    {
     "name": "stderr",
     "output_type": "stream",
     "text": [
      " 11%|█         | 24/222 [00:00<00:07, 27.16it/s]"
     ]
    },
    {
     "name": "stdout",
     "output_type": "stream",
     "text": [
      " (540, 960, 3)\n",
      "This image is: <class 'numpy.ndarray'> with dimensions: (540, 960, 3)\n",
      "This image is: <class 'numpy.ndarray'> with dimensions: (540, 960, 3)\n",
      "This image is: <class 'numpy.ndarray'> with dimensions: (540, 960, 3)\n",
      "This image is: <class 'numpy.ndarray'> with dimensions: (540, 960, 3)\n",
      "This image is: <class 'numpy.ndarray'> with dimensions: (540, 960, 3)\n",
      "This image is: <class 'numpy.ndarray'> with dimensions: (540, 960, 3)\n"
     ]
    },
    {
     "name": "stderr",
     "output_type": "stream",
     "text": [
      "\r",
      " 12%|█▏        | 27/222 [00:01<00:08, 24.30it/s]"
     ]
    },
    {
     "name": "stdout",
     "output_type": "stream",
     "text": [
      "This image is: <class 'numpy.ndarray'> with dimensions: (540, 960, 3)\n",
      "This image is: <class 'numpy.ndarray'> with dimensions: (540, 960, 3)\n",
      "This image is: <class 'numpy.ndarray'> with dimensions: (540, 960, 3)\n",
      "This image is: <class 'numpy.ndarray'> with dimensions: (540, 960, 3)\n"
     ]
    },
    {
     "name": "stderr",
     "output_type": "stream",
     "text": [
      " 15%|█▍        | 33/222 [00:01<00:07, 23.67it/s]"
     ]
    },
    {
     "name": "stdout",
     "output_type": "stream",
     "text": [
      "This image is: <class 'numpy.ndarray'> with dimensions: (540, 960, 3)\n",
      "This image is: <class 'numpy.ndarray'> with dimensions: (540, 960, 3)\n",
      "This image is: <class 'numpy.ndarray'> with dimensions: (540, 960, 3)\n",
      "This image is: <class 'numpy.ndarray'> with dimensions: (540, 960, 3)\n",
      "This image is: <class 'numpy.ndarray'> with dimensions: (540, 960, 3)\n"
     ]
    },
    {
     "name": "stderr",
     "output_type": "stream",
     "text": [
      "\r",
      " 16%|█▌        | 36/222 [00:01<00:08, 21.95it/s]"
     ]
    },
    {
     "name": "stdout",
     "output_type": "stream",
     "text": [
      "This image is: <class 'numpy.ndarray'> with dimensions: (540, 960, 3)\n",
      "This image is: <class 'numpy.ndarray'> with dimensions: (540, 960, 3)\n",
      "This image is: <class 'numpy.ndarray'> with dimensions: (540, 960, 3)\n",
      "This image is: <class 'numpy.ndarray'> with dimensions: (540, 960, 3)\n",
      "This image is: <class 'numpy.ndarray'> with dimensions: (540, 960, 3)\n"
     ]
    },
    {
     "name": "stderr",
     "output_type": "stream",
     "text": [
      " 20%|██        | 45/222 [00:01<00:07, 24.89it/s]"
     ]
    },
    {
     "name": "stdout",
     "output_type": "stream",
     "text": [
      "This image is: <class 'numpy.ndarray'> with dimensions: (540, 960, 3)\n",
      "This image is: <class 'numpy.ndarray'> with dimensions: (540, 960, 3)\n",
      "This image is: <class 'numpy.ndarray'> with dimensions: (540, 960, 3)\n",
      "This image is: <class 'numpy.ndarray'> with dimensions: (540, 960, 3)\n",
      "This image is: <class 'numpy.ndarray'> with dimensions: (540, 960, 3)\n",
      "This image is: <class 'numpy.ndarray'> with dimensions: (540, 960, 3)\n"
     ]
    },
    {
     "name": "stderr",
     "output_type": "stream",
     "text": [
      "\r",
      " 22%|██▏       | 48/222 [00:01<00:07, 23.70it/s]"
     ]
    },
    {
     "name": "stdout",
     "output_type": "stream",
     "text": [
      "This image is: <class 'numpy.ndarray'> with dimensions: (540, 960, 3)\n",
      "This image is: <class 'numpy.ndarray'> with dimensions: (540, 960, 3)\n",
      "This image is: <class 'numpy.ndarray'> with dimensions: (540, 960, 3)\n",
      "This image is: <class 'numpy.ndarray'> with dimensions: (540, 960, 3)\n",
      "This image is: <class 'numpy.ndarray'> with dimensions: (540, 960, 3)\n",
      "This image is:"
     ]
    },
    {
     "name": "stderr",
     "output_type": "stream",
     "text": [
      " 26%|██▌       | 57/222 [00:02<00:06, 26.41it/s]"
     ]
    },
    {
     "name": "stdout",
     "output_type": "stream",
     "text": [
      " <class 'numpy.ndarray'> with dimensions: (540, 960, 3)\n",
      "This image is: <class 'numpy.ndarray'> with dimensions: (540, 960, 3)\n",
      "This image is: <class 'numpy.ndarray'> with dimensions: (540, 960, 3)\n",
      "This image is: <class 'numpy.ndarray'> with dimensions: (540, 960, 3)\n",
      "This image is: <class 'numpy.ndarray'> with dimensions: (540, 960, 3)\n",
      "This image is: <class 'numpy.ndarray'> with dimensions: (540, 960, 3)\n",
      "This image is: <class 'numpy.ndarray'> with dimensions: (540, 960, 3)\n"
     ]
    },
    {
     "name": "stderr",
     "output_type": "stream",
     "text": [
      "\r",
      " 27%|██▋       | 60/222 [00:02<00:06, 24.99it/s]"
     ]
    },
    {
     "name": "stdout",
     "output_type": "stream",
     "text": [
      "This image is: <class 'numpy.ndarray'> with dimensions: (540, 960, 3)\n",
      "This image is: <class 'numpy.ndarray'> with dimensions: (540, 960, 3)\n",
      "This image is: <class 'numpy.ndarray'> with dimensions: (540, 960, 3)\n",
      "This image is: <class 'numpy.ndarray'> with dimensions: (540, 960, 3)\n",
      "This image is: <class 'numpy.ndarray'> with dimensions: (540, 960, 3)\n"
     ]
    },
    {
     "name": "stderr",
     "output_type": "stream",
     "text": [
      " 30%|███       | 67/222 [00:02<00:05, 26.51it/s]"
     ]
    },
    {
     "name": "stdout",
     "output_type": "stream",
     "text": [
      "This image is: <class 'numpy.ndarray'> with dimensions: (540, 960, 3)\n",
      "This image is: <class 'numpy.ndarray'> with dimensions: (540, 960, 3)\n",
      "This image is: <class 'numpy.ndarray'> with dimensions: (540, 960, 3)\n",
      "This image is: <class 'numpy.ndarray'> with dimensions: (540, 960, 3)\n",
      "This image is: <class 'numpy.ndarray'> with dimensions: (540, 960, 3)\n",
      "This image is: <class 'numpy.ndarray'> with dimensions: (540, 960, 3)\n",
      "This image is: <class 'numpy.ndarray'> with dimensions: (540, 960, 3)\n"
     ]
    },
    {
     "name": "stderr",
     "output_type": "stream",
     "text": [
      " 34%|███▍      | 75/222 [00:02<00:05, 28.81it/s]"
     ]
    },
    {
     "name": "stdout",
     "output_type": "stream",
     "text": [
      "This image is: <class 'numpy.ndarray'> with dimensions: (540, 960, 3)\n",
      "This image is: <class 'numpy.ndarray'> with dimensions: (540, 960, 3)\n",
      "This image is: <class 'numpy.ndarray'> with dimensions: (540, 960, 3)\n",
      "This image is: <class 'numpy.ndarray'> with dimensions: (540, 960, 3)\n",
      "This image is: <class 'numpy.ndarray'> with dimensions: (540, 960, 3)\n",
      "This image is: <class 'numpy.ndarray'> with dimensions: (540, 960, 3)\n",
      "This image is: <class 'numpy.ndarray'> with dimensions: (540, 960, 3)\n"
     ]
    },
    {
     "name": "stderr",
     "output_type": "stream",
     "text": [
      " 36%|███▋      | 81/222 [00:03<00:05, 27.29it/s]"
     ]
    },
    {
     "name": "stdout",
     "output_type": "stream",
     "text": [
      "This image is: <class 'numpy.ndarray'> with dimensions: (540, 960, 3)\n",
      "This image is: <class 'numpy.ndarray'> with dimensions: (540, 960, 3)\n",
      "This image is: <class 'numpy.ndarray'> with dimensions: (540, 960, 3)\n",
      "This image is: <class 'numpy.ndarray'> with dimensions: (540, 960, 3)\n",
      "This image is: <class 'numpy.ndarray'> with dimensions: (540, 960, 3)\n",
      "This image is: <class 'numpy.ndarray'> with dimensions: (540, 960, 3)\n"
     ]
    },
    {
     "name": "stderr",
     "output_type": "stream",
     "text": [
      " 39%|███▉      | 87/222 [00:03<00:04, 27.59it/s]"
     ]
    },
    {
     "name": "stdout",
     "output_type": "stream",
     "text": [
      "This image is: <class 'numpy.ndarray'> with dimensions: (540, 960, 3)\n",
      "This image is: <class 'numpy.ndarray'> with dimensions: (540, 960, 3)\n",
      "This image is: <class 'numpy.ndarray'> with dimensions: (540, 960, 3)\n",
      "This image is: <class 'numpy.ndarray'> with dimensions: (540, 960, 3)\n",
      "This image is: <class 'numpy.ndarray'> with dimensions: (540, 960, 3)\n",
      "This image is: <class 'numpy.ndarray'> with dimensions: (540, 960, 3)\n"
     ]
    },
    {
     "name": "stderr",
     "output_type": "stream",
     "text": [
      " 42%|████▏     | 94/222 [00:03<00:04, 29.36it/s]"
     ]
    },
    {
     "name": "stdout",
     "output_type": "stream",
     "text": [
      "This image is: <class 'numpy.ndarray'> with dimensions: (540, 960, 3)\n",
      "This image is: <class 'numpy.ndarray'> with dimensions: (540, 960, 3)\n",
      "This image is: <class 'numpy.ndarray'> with dimensions: (540, 960, 3)\n",
      "This image is: <class 'numpy.ndarray'> with dimensions: (540, 960, 3)\n",
      "This image is: <class 'numpy.ndarray'> with dimensions: (540, 960, 3)\n",
      "This image is: <class 'numpy.ndarray'> with dimensions: (540, 960, 3)\n",
      "This image is: <class 'numpy.ndarray'> with dimensions: (540, 960, 3)\n"
     ]
    },
    {
     "name": "stderr",
     "output_type": "stream",
     "text": [
      " 46%|████▌     | 102/222 [00:03<00:03, 31.17it/s]"
     ]
    },
    {
     "name": "stdout",
     "output_type": "stream",
     "text": [
      "This image is: <class 'numpy.ndarray'> with dimensions: (540, 960, 3)\n",
      "This image is: <class 'numpy.ndarray'> with dimensions: (540, 960, 3)\n",
      "This image is: <class 'numpy.ndarray'> with dimensions: (540, 960, 3)\n",
      "This image is: <class 'numpy.ndarray'> with dimensions: (540, 960, 3)\n",
      "This image is: <class 'numpy.ndarray'> with dimensions: (540, 960, 3)\n",
      "This image is: <class 'numpy.ndarray'> with dimensions: (540, 960, 3)\n",
      "This image is: <class 'numpy.ndarray'> with dimensions: (540, 960, 3)\n"
     ]
    },
    {
     "name": "stderr",
     "output_type": "stream",
     "text": [
      "\r",
      " 48%|████▊     | 106/222 [00:03<00:03, 31.32it/s]"
     ]
    },
    {
     "name": "stdout",
     "output_type": "stream",
     "text": [
      "This image is: <class 'numpy.ndarray'> with dimensions: (540, 960, 3)\n",
      "This image is: <class 'numpy.ndarray'> with dimensions: (540, 960, 3)\n",
      "This image is: <class 'numpy.ndarray'> with dimensions: (540, 960, 3)\n",
      "This image is: <class 'numpy.ndarray'> with dimensions: (540, 960, 3)\n",
      "This image is: <class 'numpy.ndarray'> with dimensions: (540, 960, 3)\n",
      "This image is: <class 'numpy.ndarray'> with dimensions: (540, 960, 3)\n",
      "This image is: <class 'numpy.ndarray'> with dimensions: (540, 960, 3)\n"
     ]
    },
    {
     "name": "stderr",
     "output_type": "stream",
     "text": [
      " 51%|█████▏    | 114/222 [00:04<00:03, 31.47it/s]"
     ]
    },
    {
     "name": "stdout",
     "output_type": "stream",
     "text": [
      "This image is: <class 'numpy.ndarray'> with dimensions: (540, 960, 3)\n",
      "This image is: <class 'numpy.ndarray'> with dimensions: (540, 960, 3)\n",
      "This image is: <class 'numpy.ndarray'> with dimensions: (540, 960, 3)\n",
      "This image is: <class 'numpy.ndarray'> with dimensions: (540, 960, 3)\n",
      "This image is: <class 'numpy.ndarray'> with dimensions: (540, 960, 3)\n",
      "This image is: <class 'numpy.ndarray'> with dimensions: (540, 960, 3)\n",
      "This image is: <class 'numpy.ndarray'> with dimensions: (540, 960, 3)\n"
     ]
    },
    {
     "name": "stderr",
     "output_type": "stream",
     "text": [
      " 55%|█████▍    | 122/222 [00:04<00:03, 32.19it/s]"
     ]
    },
    {
     "name": "stdout",
     "output_type": "stream",
     "text": [
      "This image is: <class 'numpy.ndarray'> with dimensions: (540, 960, 3)\n",
      "This image is: <class 'numpy.ndarray'> with dimensions: (540, 960, 3)\n",
      "This image is: <class 'numpy.ndarray'> with dimensions: (540, 960, 3)\n",
      "This image is: <class 'numpy.ndarray'> with dimensions: (540, 960, 3)\n",
      "This image is: <class 'numpy.ndarray'> with dimensions: (540, 960, 3)\n",
      "This image is: <class 'numpy.ndarray'> with dimensions: (540, 960, 3)\n",
      "This image is: <class 'numpy.ndarray'> with dimensions: (540, 960, 3)\n"
     ]
    },
    {
     "name": "stderr",
     "output_type": "stream",
     "text": [
      "\r",
      " 57%|█████▋    | 126/222 [00:04<00:02, 32.26it/s]"
     ]
    },
    {
     "name": "stdout",
     "output_type": "stream",
     "text": [
      "This image is: <class 'numpy.ndarray'> with dimensions: (540, 960, 3)\n",
      "This image is: <class 'numpy.ndarray'> with dimensions: (540, 960, 3)\n",
      "This image is: <class 'numpy.ndarray'> with dimensions: (540, 960, 3)\n",
      "This image is: <class 'numpy.ndarray'> with dimensions: (540, 960, 3)\n",
      "This image is: <class 'numpy.ndarray'> with dimensions: (540, 960, 3)\n",
      "This image is: <class 'numpy.ndarray'> with dimensions: (540, 960, 3)\n",
      "This image is: <class 'numpy.ndarray'> with dimensions: (540, 960, 3)\n"
     ]
    },
    {
     "name": "stderr",
     "output_type": "stream",
     "text": [
      " 60%|██████    | 134/222 [00:04<00:02, 30.82it/s]"
     ]
    },
    {
     "name": "stdout",
     "output_type": "stream",
     "text": [
      "This image is: <class 'numpy.ndarray'> with dimensions: (540, 960, 3)\n",
      "This image is: <class 'numpy.ndarray'> with dimensions: (540, 960, 3)\n",
      "This image is: <class 'numpy.ndarray'> with dimensions: (540, 960, 3)\n",
      "This image is: <class 'numpy.ndarray'> with dimensions: (540, 960, 3)\n",
      "This image is: <class 'numpy.ndarray'> with dimensions: (540, 960, 3)\n",
      "This image is: <class 'numpy.ndarray'> with dimensions: (540, 960, 3)\n"
     ]
    },
    {
     "name": "stderr",
     "output_type": "stream",
     "text": [
      " 64%|██████▍   | 142/222 [00:05<00:02, 30.48it/s]"
     ]
    },
    {
     "name": "stdout",
     "output_type": "stream",
     "text": [
      "This image is: <class 'numpy.ndarray'> with dimensions: (540, 960, 3)\n",
      "This image is: <class 'numpy.ndarray'> with dimensions: (540, 960, 3)\n",
      "This image is: <class 'numpy.ndarray'> with dimensions: (540, 960, 3)\n",
      "This image is: <class 'numpy.ndarray'> with dimensions: (540, 960, 3)\n",
      "This image is: <class 'numpy.ndarray'> with dimensions: (540, 960, 3)\n",
      "This image is: <class 'numpy.ndarray'> with dimensions: (540, 960, 3)\n",
      "This image is: <class 'numpy.ndarray'> with dimensions: (540, 960, 3)\n"
     ]
    },
    {
     "name": "stderr",
     "output_type": "stream",
     "text": [
      "\r",
      " 66%|██████▌   | 146/222 [00:05<00:02, 30.43it/s]"
     ]
    },
    {
     "name": "stdout",
     "output_type": "stream",
     "text": [
      "This image is: <class 'numpy.ndarray'> with dimensions: (540, 960, 3)\n",
      "This image is: <class 'numpy.ndarray'> with dimensions: (540, 960, 3)\n",
      "This image is: <class 'numpy.ndarray'> with dimensions: (540, 960, 3)\n",
      "This image is: <class 'numpy.ndarray'> with dimensions: (540, 960, 3)\n",
      "This image is: <class 'numpy.ndarray'> with dimensions: (540, 960, 3)\n",
      "This image is: <class 'numpy.ndarray'> with dimensions: (540, 960, 3)\n",
      "This image is: <class 'numpy.ndarray'> with dimensions: (540, 960, 3)\n"
     ]
    },
    {
     "name": "stderr",
     "output_type": "stream",
     "text": [
      "\r",
      " 68%|██████▊   | 150/222 [00:05<00:02, 30.36it/s]"
     ]
    },
    {
     "name": "stdout",
     "output_type": "stream",
     "text": [
      "This image is: <class 'numpy.ndarray'> with dimensions: (540, 960, 3)\n",
      "This image is: <class 'numpy.ndarray'> with dimensions: (540, 960, 3)\n",
      "This image is: <class 'numpy.ndarray'> with dimensions: (540, 960, 3)\n"
     ]
    },
    {
     "name": "stderr",
     "output_type": "stream",
     "text": [
      " 71%|███████   | 157/222 [00:05<00:02, 24.58it/s]"
     ]
    },
    {
     "name": "stdout",
     "output_type": "stream",
     "text": [
      "This image is: <class 'numpy.ndarray'> with dimensions: (540, 960, 3)\n",
      "This image is: <class 'numpy.ndarray'> with dimensions: (540, 960, 3)\n",
      "This image is: <class 'numpy.ndarray'> with dimensions: (540, 960, 3)\n",
      "This image is: <class 'numpy.ndarray'> with dimensions: (540, 960, 3)\n",
      "This image is: <class 'numpy.ndarray'> with dimensions: (540, 960, 3)\n",
      "This image is: <class 'numpy.ndarray'> with dimensions: (540, 960, 3)\n"
     ]
    },
    {
     "name": "stderr",
     "output_type": "stream",
     "text": [
      " 74%|███████▍  | 164/222 [00:05<00:02, 27.93it/s]"
     ]
    },
    {
     "name": "stdout",
     "output_type": "stream",
     "text": [
      "This image is: <class 'numpy.ndarray'> with dimensions: (540, 960, 3)\n",
      "This image is: <class 'numpy.ndarray'> with dimensions: (540, 960, 3)\n",
      "This image is: <class 'numpy.ndarray'> with dimensions: (540, 960, 3)\n",
      "This image is: <class 'numpy.ndarray'> with dimensions: (540, 960, 3)\n",
      "This image is: <class 'numpy.ndarray'> with dimensions: (540, 960, 3)\n",
      "This image is: <class 'numpy.ndarray'> with dimensions: (540, 960, 3)\n",
      "This image is: <class 'numpy.ndarray'> with dimensions: (540, 960, 3)\n"
     ]
    },
    {
     "name": "stderr",
     "output_type": "stream",
     "text": [
      "\r",
      " 76%|███████▌  | 168/222 [00:06<00:01, 28.97it/s]"
     ]
    },
    {
     "name": "stdout",
     "output_type": "stream",
     "text": [
      "This image is: <class 'numpy.ndarray'> with dimensions: (540, 960, 3)\n",
      "This image is: <class 'numpy.ndarray'> with dimensions: (540, 960, 3)\n",
      "This image is: <class 'numpy.ndarray'> with dimensions: (540, 960, 3)\n",
      "This image is: <class 'numpy.ndarray'> with dimensions: (540, 960, 3)\n",
      "This image is:"
     ]
    },
    {
     "name": "stderr",
     "output_type": "stream",
     "text": [
      " 79%|███████▉  | 175/222 [00:06<00:01, 23.63it/s]"
     ]
    },
    {
     "name": "stdout",
     "output_type": "stream",
     "text": [
      " <class 'numpy.ndarray'> with dimensions: (540, 960, 3)\n",
      "This image is: <class 'numpy.ndarray'> with dimensions: (540, 960, 3)\n",
      "This image is: <class 'numpy.ndarray'> with dimensions: (540, 960, 3)\n",
      "This image is: <class 'numpy.ndarray'> with dimensions: (540, 960, 3)\n",
      "This image is: <class 'numpy.ndarray'> with dimensions: (540, 960, 3)\n",
      "This image is: <class 'numpy.ndarray'> with dimensions: (540, 960, 3)\n"
     ]
    },
    {
     "name": "stderr",
     "output_type": "stream",
     "text": [
      " 82%|████████▏ | 182/222 [00:06<00:01, 27.10it/s]"
     ]
    },
    {
     "name": "stdout",
     "output_type": "stream",
     "text": [
      "This image is: <class 'numpy.ndarray'> with dimensions: (540, 960, 3)\n",
      "This image is: <class 'numpy.ndarray'> with dimensions: (540, 960, 3)\n",
      "This image is: <class 'numpy.ndarray'> with dimensions: (540, 960, 3)\n",
      "This image is: <class 'numpy.ndarray'> with dimensions: (540, 960, 3)\n",
      "This image is: <class 'numpy.ndarray'> with dimensions: (540, 960, 3)\n",
      "This image is: <class 'numpy.ndarray'> with dimensions: (540, 960, 3)\n",
      "This image is: <class 'numpy.ndarray'> with dimensions: (540, 960, 3)\n"
     ]
    },
    {
     "name": "stderr",
     "output_type": "stream",
     "text": [
      " 85%|████████▌ | 189/222 [00:06<00:01, 28.31it/s]"
     ]
    },
    {
     "name": "stdout",
     "output_type": "stream",
     "text": [
      "This image is: <class 'numpy.ndarray'> with dimensions: (540, 960, 3)\n",
      "This image is: <class 'numpy.ndarray'> with dimensions: (540, 960, 3)\n",
      "This image is: <class 'numpy.ndarray'> with dimensions: (540, 960, 3)\n",
      "This image is: <class 'numpy.ndarray'> with dimensions: (540, 960, 3)\n",
      "This image is: <class 'numpy.ndarray'> with dimensions: (540, 960, 3)\n",
      "This image is: <class 'numpy.ndarray'> with dimensions: (540, 960, 3)\n"
     ]
    },
    {
     "name": "stderr",
     "output_type": "stream",
     "text": [
      "\r",
      " 86%|████████▋ | 192/222 [00:07<00:01, 26.92it/s]"
     ]
    },
    {
     "name": "stdout",
     "output_type": "stream",
     "text": [
      "This image is: <class 'numpy.ndarray'> with dimensions: (540, 960, 3)\n",
      "This image is: <class 'numpy.ndarray'> with dimensions: (540, 960, 3)\n",
      "This image is: <class 'numpy.ndarray'> with dimensions: (540, 960, 3)\n",
      "This image is: <class 'numpy.ndarray'> with dimensions: (540, 960, 3)\n",
      "This image is: <class 'numpy.ndarray'> with dimensions: (540, 960, 3)\n"
     ]
    },
    {
     "name": "stderr",
     "output_type": "stream",
     "text": [
      " 89%|████████▉ | 198/222 [00:07<00:01, 23.22it/s]"
     ]
    },
    {
     "name": "stdout",
     "output_type": "stream",
     "text": [
      "This image is: <class 'numpy.ndarray'> with dimensions: (540, 960, 3)\n",
      "This image is: <class 'numpy.ndarray'> with dimensions: (540, 960, 3)\n",
      "This image is: <class 'numpy.ndarray'> with dimensions: (540, 960, 3)\n",
      "This image is: <class 'numpy.ndarray'> with dimensions: (540, 960, 3)\n",
      "This image is: <class 'numpy.ndarray'> with dimensions: (540, 960, 3)\n",
      "This image is: <class 'numpy.ndarray'> with dimensions: (540, 960, 3)\n"
     ]
    },
    {
     "name": "stderr",
     "output_type": "stream",
     "text": [
      " 92%|█████████▏| 204/222 [00:07<00:00, 25.75it/s]"
     ]
    },
    {
     "name": "stdout",
     "output_type": "stream",
     "text": [
      "This image is: <class 'numpy.ndarray'> with dimensions: (540, 960, 3)\n",
      "This image is: <class 'numpy.ndarray'> with dimensions: (540, 960, 3)\n",
      "This image is: <class 'numpy.ndarray'> with dimensions: (540, 960, 3)\n",
      "This image is: <class 'numpy.ndarray'> with dimensions: (540, 960, 3)\n",
      "This image is: <class 'numpy.ndarray'> with dimensions: (540, 960, 3)\n",
      "This image is: <class 'numpy.ndarray'> with dimensions: (540, 960, 3)\n"
     ]
    },
    {
     "name": "stderr",
     "output_type": "stream",
     "text": [
      " 95%|█████████▌| 211/222 [00:07<00:00, 26.15it/s]"
     ]
    },
    {
     "name": "stdout",
     "output_type": "stream",
     "text": [
      "This image is: <class 'numpy.ndarray'> with dimensions: (540, 960, 3)\n",
      "This image is: <class 'numpy.ndarray'> with dimensions: (540, 960, 3)\n",
      "This image is: <class 'numpy.ndarray'> with dimensions: (540, 960, 3)\n",
      "This image is: <class 'numpy.ndarray'> with dimensions: (540, 960, 3)\n",
      "This image is: <class 'numpy.ndarray'> with dimensions: (540, 960, 3)\n",
      "This image is: <class 'numpy.ndarray'> with dimensions: (540, 960, 3)\n"
     ]
    },
    {
     "name": "stderr",
     "output_type": "stream",
     "text": [
      " 98%|█████████▊| 218/222 [00:08<00:00, 27.54it/s]"
     ]
    },
    {
     "name": "stdout",
     "output_type": "stream",
     "text": [
      "This image is: <class 'numpy.ndarray'> with dimensions: (540, 960, 3)\n",
      "This image is: <class 'numpy.ndarray'> with dimensions: (540, 960, 3)\n",
      "This image is: <class 'numpy.ndarray'> with dimensions: (540, 960, 3)\n",
      "This image is: <class 'numpy.ndarray'> with dimensions: (540, 960, 3)\n",
      "This image is: <class 'numpy.ndarray'> with dimensions: (540, 960, 3)\n",
      "This image is: <class 'numpy.ndarray'> with dimensions: (540, 960, 3)\n"
     ]
    },
    {
     "name": "stderr",
     "output_type": "stream",
     "text": [
      "100%|█████████▉| 221/222 [00:08<00:00, 28.01it/s]\n"
     ]
    },
    {
     "name": "stdout",
     "output_type": "stream",
     "text": [
      "This image is: <class 'numpy.ndarray'> with dimensions: (540, 960, 3)\n",
      "This image is: <class 'numpy.ndarray'> with dimensions: (540, 960, 3)\n",
      "This image is: <class 'numpy.ndarray'> with dimensions: (540, 960, 3)\n",
      "[MoviePy] Done.\n",
      "[MoviePy] >>>> Video ready: test_videos/outputsolidWhiteRight.mp4 \n",
      "\n"
     ]
    }
   ],
   "source": [
    "def main():\n",
    "    ## test on images \n",
    "    single_image(\"solidYellowCurve2.jpg\")\n",
    "    # single_image(\"solidWhiteRight.jpg\")\n",
    "    # for_lines()\n",
    "    \n",
    "    ## test on video\n",
    "    for_video(\"solidWhiteRight.mp4\")\n",
    "    # for_video(\"solidYellowLeft.mp4\")\n",
    "    \n",
    "    # for_video(\"challenge.mp4\")\n",
    "\n",
    "if __name__ == \"__main__\":\n",
    "    main()"
   ]
  },
  {
   "cell_type": "markdown",
   "metadata": {},
   "source": [
    "## Shortcomings with your current pipeline"
   ]
  },
  {
   "cell_type": "raw",
   "metadata": {},
   "source": [
    "The main constraint for my current pipeline lies in the draw_lines() function. \n",
    "First, this program does not work on lane lines at a large angle turn on the road, where the lane line become far away from straight. \n",
    "\n",
    "Second, the output of video stream is actually not satisfying, because the final drawn line is obtained by averaging all the slops of hough transform output lines, even though it works fine for an image, for a series of image, the slops the drawn line looks like shaking in a video, not as stable as the drawn lines shown in P1_example.mp4.\n",
    "\n",
    "Third, since it is assumed that the left lane line lies in left half image and right lane lies in the right half, the draw_line function may become ineffective for those image in which lane lines are at other positions rather than the normal one.\n",
    "\n",
    "Besides, in some cases, the lane line become almost invisible after grayscale, like pictures shown below. In that case, this program even fail to find the left lane line, the tuning of parameters of canny and Hough transform does not help either. "
   ]
  },
  {
   "cell_type": "markdown",
   "metadata": {},
   "source": [
    "<figure>\n",
    " <img src=\"report_image/corner.jpg\" width=\"380\" alt=\"Combined Image\" />\n",
    " <figcaption>\n",
    " <p></p> \n",
    " <p style=\"text-align: center;\"> Original image\" </p> \n",
    " </figcaption>\n",
    " \n",
    " <figure>\n",
    " <img src=\"report_image/gray_corner.jpg\" width=\"380\" alt=\"Combined Image\" />\n",
    " <figcaption>\n",
    " <p></p> \n",
    " <p style=\"text-align: center;\"> Grayscale image </p> \n",
    " </figcaption>"
   ]
  },
  {
   "cell_type": "markdown",
   "metadata": {},
   "source": [
    "## Possible improvement"
   ]
  },
  {
   "cell_type": "raw",
   "metadata": {},
   "source": [
    "For the first 3 shortcomings, I have spent a day to try seraval methods to overcome the current shortcomings, one way I have tried is to draw more than 1 line at each half of image, but since the line segments of the lane line still have different slop, this seems does not work. \n",
    "\n",
    "One possible way to improve this is do not average the slops, instead, merge or connect the line segments using starting and ending points on the line, extend the line which is closest to bottom of image to bottom, and extend the line closest to upper limit of region mask to the upper limit. The output may not be very straight, but it should fit the lane line better and works on curve lane.\n",
    "\n",
    "For the 4th shortcoming, I have not tried it. But in order to improve this, some work has to be done before running grayscale() function. Maybe the color selection is helpful here, that is, only pixel close to yellow and white is reserved. "
   ]
  }
 ],
 "metadata": {
  "anaconda-cloud": {},
  "kernelspec": {
   "display_name": "Python 3",
   "language": "python",
   "name": "python3"
  },
  "language_info": {
   "codemirror_mode": {
    "name": "ipython",
    "version": 3
   },
   "file_extension": ".py",
   "mimetype": "text/x-python",
   "name": "python",
   "nbconvert_exporter": "python",
   "pygments_lexer": "ipython3",
   "version": "3.5.2"
  },
  "widgets": {
   "state": {},
   "version": "1.1.2"
  }
 },
 "nbformat": 4,
 "nbformat_minor": 1
}
